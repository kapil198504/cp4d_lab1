{
 "cells": [
  {
   "cell_type": "code",
   "execution_count": 1,
   "id": "3d3fb1b0-8cc0-4087-9899-96d602e2d21d",
   "metadata": {
    "id": "8bcc161c-b34c-474b-a706-66bd2f4b0e77",
    "tags": []
   },
   "outputs": [
    {
     "name": "stdout",
     "output_type": "stream",
     "text": [
      "Hello World\n"
     ]
    }
   ],
   "source": [
    "print('Hello World')"
   ]
  },
  {
   "cell_type": "code",
   "execution_count": null,
   "id": "0bdd629c-afb0-45ba-bee2-1556bfee2562",
   "metadata": {
    "id": "0bdd629c-afb0-45ba-bee2-1556bfee2562"
   },
   "outputs": [],
   "source": []
  }
 ],
 "metadata": {
  "kernelspec": {
   "display_name": "Python 3.9",
   "language": "python",
   "name": "python3"
  },
  "language_info": {
   "codemirror_mode": {
    "name": "ipython",
    "version": 3
   },
   "file_extension": ".py",
   "mimetype": "text/x-python",
   "name": "python",
   "nbconvert_exporter": "python",
   "pygments_lexer": "ipython3",
   "version": "3.9.7"
  }
 },
 "nbformat": 4,
 "nbformat_minor": 5
}
